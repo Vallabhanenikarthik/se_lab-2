{
  "nbformat": 4,
  "nbformat_minor": 0,
  "metadata": {
    "colab": {
      "provenance": [],
      "mount_file_id": "1QA4rOKJcQuUKCWe7ZsBkbmhe0tnvxlXE",
      "authorship_tag": "ABX9TyPCrdbK5FCvDX6fBQy4zBgw",
      "include_colab_link": true
    },
    "kernelspec": {
      "name": "python3",
      "display_name": "Python 3"
    },
    "language_info": {
      "name": "python"
    }
  },
  "cells": [
    {
      "cell_type": "markdown",
      "metadata": {
        "id": "view-in-github",
        "colab_type": "text"
      },
      "source": [
        "<a href=\"https://colab.research.google.com/github/Vallabhanenikarthik/se_lab-2/blob/main/se_lab_2.ipynb\" target=\"_parent\"><img src=\"https://colab.research.google.com/assets/colab-badge.svg\" alt=\"Open In Colab\"/></a>"
      ]
    },
    {
      "cell_type": "code",
      "execution_count": null,
      "metadata": {
        "colab": {
          "base_uri": "https://localhost:8080/"
        },
        "id": "yTAEwIGYCgLC",
        "outputId": "756a8b35-d39d-441d-85de-7ce8ac706f48"
      },
      "outputs": [
        {
          "output_type": "stream",
          "name": "stdout",
          "text": [
            "hardcoded addition: 10+20=30\n"
          ]
        }
      ],
      "source": [
        "a=10\n",
        "b=20\n",
        "result=a+b\n",
        "print(f\"hardcoded addition: {a}+{b}={result}\")"
      ]
    },
    {
      "cell_type": "code",
      "source": [
        "try:\n",
        "    x=int(input(\"Enter the first number: \"))\n",
        "    y = int(input(\"Enter the second number: \"))\n",
        "    result = x + y\n",
        "    print(f\"User Input Addition: {x} + {y} = {result}\")\n",
        "except ValueError:\n",
        "    print(\"Please enter valid integers!\")"
      ],
      "metadata": {
        "colab": {
          "base_uri": "https://localhost:8080/"
        },
        "id": "lZmrORRAEiJL",
        "outputId": "6ca98012-da9f-4dae-b004-d034f10bb598"
      },
      "execution_count": null,
      "outputs": [
        {
          "output_type": "stream",
          "name": "stdout",
          "text": [
            "Enter the first number: 20\n",
            "Enter the second number: 21\n",
            "User Input Addition: 20 + 21 = 41\n"
          ]
        }
      ]
    },
    {
      "cell_type": "code",
      "source": [
        "user_input = input(\"Please enter a number: \")\n",
        "with open(\"single_input.txt\", \"w\") as f:\n",
        "    f.write(user_input)\n",
        "\n",
        "try:\n",
        "    with open(\"single_input.txt\", \"r\") as f:\n",
        "        num = int(f.read().strip())\n",
        "        result = num * 2\n",
        "        print(f\"Single Input Read from File: {num} * 2 = {result}\")\n",
        "except FileNotFoundError:\n",
        "    print(\"File not found!\")\n",
        "except ValueError:\n",
        "    print(\"Error in reading or converting the input!\")\n"
      ],
      "metadata": {
        "colab": {
          "base_uri": "https://localhost:8080/"
        },
        "id": "8rXtsvnCFQuA",
        "outputId": "93b1a621-2a77-48d5-8070-0b5f8e8e4540"
      },
      "execution_count": 12,
      "outputs": [
        {
          "output_type": "stream",
          "name": "stdout",
          "text": [
            "Please enter a number: 42\n",
            "Single Input Read from File: 42 * 2 = 84\n"
          ]
        }
      ]
    },
    {
      "cell_type": "code",
      "source": [
        "user_input = input(\"Please enter multiple numbers, separated by spaces: \")\n",
        "numbers_list = user_input.split()\n",
        "with open(\"multiple_inputs.txt\", \"w\") as f:\n",
        "    for num in numbers_list:\n",
        "        f.write(num + \"\\n\")\n",
        "\n",
        "try:\n",
        "    with open(\"multiple_inputs.txt\", \"r\") as f:\n",
        "        numbers = [int(line.strip()) for line in f.readlines()]\n",
        "        result = sum(numbers)\n",
        "        print(f\"Multiple Inputs Read from File: {numbers}, Sum = {result}\")\n",
        "except FileNotFoundError:\n",
        "    print(\"File not found!\")\n",
        "except ValueError:\n",
        "    print(\"Error in reading or converting the inputs!\")\n"
      ],
      "metadata": {
        "colab": {
          "base_uri": "https://localhost:8080/"
        },
        "id": "JVI-2cTOF7Sv",
        "outputId": "0d9c5ed9-4f87-4e35-e29a-a9e97a00e4be"
      },
      "execution_count": 14,
      "outputs": [
        {
          "output_type": "stream",
          "name": "stdout",
          "text": [
            "Please enter multiple numbers, separated by spaces: 51 21\n",
            "Multiple Inputs Read from File: [51, 21], Sum = 72\n"
          ]
        }
      ]
    },
    {
      "cell_type": "code",
      "source": [
        "# Check if a number is even or odd\n",
        "num = 10\n",
        "if num % 2 == 0:\n",
        "    print(f\"{num} is even\")\n",
        "else:\n",
        "    print(f\"{num} is odd\")\n"
      ],
      "metadata": {
        "id": "8hd5sRiYH-dv",
        "colab": {
          "base_uri": "https://localhost:8080/"
        },
        "outputId": "6826403f-8fed-4373-b316-181b2cb6d93e"
      },
      "execution_count": 1,
      "outputs": [
        {
          "output_type": "stream",
          "name": "stdout",
          "text": [
            "10 is even\n"
          ]
        }
      ]
    },
    {
      "cell_type": "code",
      "source": [
        "# Check if a number is prime\n",
        "num = 7\n",
        "is_prime = True\n",
        "for i in range(2, num):\n",
        "    if num % i == 0:\n",
        "        is_prime = False\n",
        "        break\n",
        "if is_prime:\n",
        "    print(f\"{num} is a prime number\")\n",
        "else:\n",
        "    print(f\"{num} is not a prime number\")\n"
      ],
      "metadata": {
        "colab": {
          "base_uri": "https://localhost:8080/"
        },
        "id": "zrACJOyclB5S",
        "outputId": "9784fe43-9c76-43db-dd79-eaecbe26512d"
      },
      "execution_count": 2,
      "outputs": [
        {
          "output_type": "stream",
          "name": "stdout",
          "text": [
            "7 is a prime number\n"
          ]
        }
      ]
    },
    {
      "cell_type": "code",
      "source": [
        "# Find the factorial of a number\n",
        "num = 5\n",
        "factorial = 1\n",
        "for i in range(1, num + 1):\n",
        "    factorial *= i\n",
        "print(f\"Factorial of {num} is {factorial}\")\n"
      ],
      "metadata": {
        "colab": {
          "base_uri": "https://localhost:8080/"
        },
        "id": "U2hlXJ7blD1x",
        "outputId": "8f8b8677-f6a5-4941-cd24-c13191045efb"
      },
      "execution_count": 3,
      "outputs": [
        {
          "output_type": "stream",
          "name": "stdout",
          "text": [
            "Factorial of 5 is 120\n"
          ]
        }
      ]
    },
    {
      "cell_type": "code",
      "source": [
        "# Calculate simple interest\n",
        "principal = 1000\n",
        "rate = 5\n",
        "time = 2\n",
        "simple_interest = (principal * rate * time) / 100\n",
        "print(f\"Simple Interest is {simple_interest}\")\n"
      ],
      "metadata": {
        "colab": {
          "base_uri": "https://localhost:8080/"
        },
        "id": "f48u50JQlL2Z",
        "outputId": "8bf047c8-6820-4830-89a2-b28f0011b30a"
      },
      "execution_count": 4,
      "outputs": [
        {
          "output_type": "stream",
          "name": "stdout",
          "text": [
            "Simple Interest is 100.0\n"
          ]
        }
      ]
    },
    {
      "cell_type": "code",
      "source": [
        "# Print the Fibonacci sequence up to a certain number\n",
        "n = 10\n",
        "a, b = 0, 1\n",
        "for _ in range(n):\n",
        "    print(a, end=\" \")\n",
        "    a, b = b, a + b\n"
      ],
      "metadata": {
        "colab": {
          "base_uri": "https://localhost:8080/"
        },
        "id": "NRO_EGARlPE5",
        "outputId": "3e7e653f-0204-4b86-b888-fc815986f4ee"
      },
      "execution_count": 5,
      "outputs": [
        {
          "output_type": "stream",
          "name": "stdout",
          "text": [
            "0 1 1 2 3 5 8 13 21 34 "
          ]
        }
      ]
    },
    {
      "cell_type": "code",
      "source": [
        "# Reverse a string\n",
        "string = \"Python\"\n",
        "reversed_string = string[::-1]\n",
        "print(\"Reversed String:\", reversed_string)\n"
      ],
      "metadata": {
        "colab": {
          "base_uri": "https://localhost:8080/"
        },
        "id": "R8hT1jwmlO_q",
        "outputId": "92fcd607-8409-4e00-ae7f-d29eda158dc8"
      },
      "execution_count": 6,
      "outputs": [
        {
          "output_type": "stream",
          "name": "stdout",
          "text": [
            "Reversed String: nohtyP\n"
          ]
        }
      ]
    },
    {
      "cell_type": "code",
      "source": [
        "# Find the largest of three numbers\n",
        "a = 10\n",
        "b = 20\n",
        "c = 15\n",
        "maximum = max(a, b, c)\n",
        "print(f\"The largest number is {maximum}\")\n"
      ],
      "metadata": {
        "colab": {
          "base_uri": "https://localhost:8080/"
        },
        "id": "qMLozKxflUux",
        "outputId": "d1ba52a0-0740-434d-eac5-e9b51a82ed5f"
      },
      "execution_count": 7,
      "outputs": [
        {
          "output_type": "stream",
          "name": "stdout",
          "text": [
            "The largest number is 20\n"
          ]
        }
      ]
    },
    {
      "cell_type": "code",
      "source": [
        "# Print the multiplication table of a number\n",
        "num = 5\n",
        "for i in range(1, 11):\n",
        "    print(f\"{num} x {i} = {num * i}\")\n"
      ],
      "metadata": {
        "colab": {
          "base_uri": "https://localhost:8080/"
        },
        "id": "NVvQgo-jlUmZ",
        "outputId": "c9f1ab62-0444-49d6-8404-9993f732f942"
      },
      "execution_count": 8,
      "outputs": [
        {
          "output_type": "stream",
          "name": "stdout",
          "text": [
            "5 x 1 = 5\n",
            "5 x 2 = 10\n",
            "5 x 3 = 15\n",
            "5 x 4 = 20\n",
            "5 x 5 = 25\n",
            "5 x 6 = 30\n",
            "5 x 7 = 35\n",
            "5 x 8 = 40\n",
            "5 x 9 = 45\n",
            "5 x 10 = 50\n"
          ]
        }
      ]
    },
    {
      "cell_type": "code",
      "source": [
        "# Count vowels in a given string\n",
        "string = \"Hello, how are you?\"\n",
        "vowels = \"aeiouAEIOU\"\n",
        "count = 0\n",
        "\n",
        "for char in string:\n",
        "    if char in vowels:\n",
        "        count += 1\n",
        "\n",
        "print(f\"Number of vowels in the string: {count}\")\n"
      ],
      "metadata": {
        "colab": {
          "base_uri": "https://localhost:8080/"
        },
        "id": "YOkzzcp7lgSc",
        "outputId": "04023599-5769-43cc-8a66-dbcf5d096be7"
      },
      "execution_count": 9,
      "outputs": [
        {
          "output_type": "stream",
          "name": "stdout",
          "text": [
            "Number of vowels in the string: 7\n"
          ]
        }
      ]
    },
    {
      "cell_type": "code",
      "source": [
        "# Check if a string is a palindrome\n",
        "string = \"madam\"\n",
        "reversed_string = string[::-1]\n",
        "\n",
        "if string == reversed_string:\n",
        "    print(f\"'{string}' is a palindrome\")\n",
        "else:\n",
        "    print(f\"'{string}' is not a palindrome\")\n"
      ],
      "metadata": {
        "colab": {
          "base_uri": "https://localhost:8080/"
        },
        "id": "5Jl8TWjflgML",
        "outputId": "50a67f4f-1e40-43e0-fb68-246c58a87591"
      },
      "execution_count": 10,
      "outputs": [
        {
          "output_type": "stream",
          "name": "stdout",
          "text": [
            "'madam' is a palindrome\n"
          ]
        }
      ]
    }
  ]
}