{
  "nbformat": 4,
  "nbformat_minor": 0,
  "metadata": {
    "colab": {
      "provenance": [],
      "authorship_tag": "ABX9TyPMAw8hKfEoYr7nSMRg7yw7",
      "include_colab_link": true
    },
    "kernelspec": {
      "name": "python3",
      "display_name": "Python 3"
    },
    "language_info": {
      "name": "python"
    }
  },
  "cells": [
    {
      "cell_type": "markdown",
      "metadata": {
        "id": "view-in-github",
        "colab_type": "text"
      },
      "source": [
        "<a href=\"https://colab.research.google.com/github/Vallabhanenikarthik/se_lab-2/blob/main/Untitled0.ipynb\" target=\"_parent\"><img src=\"https://colab.research.google.com/assets/colab-badge.svg\" alt=\"Open In Colab\"/></a>"
      ]
    },
    {
      "cell_type": "code",
      "source": [
        "#Hardcoding Variables\n",
        "a = 0.5\n",
        "b = -2.3\n",
        "c = 25.0\n",
        "\n",
        "\n",
        "time = 10\n",
        "\n",
        "# Calculate the temperature at the given time\n",
        "temperature = a * (time ** 2) + b * time + c\n",
        "\n",
        "\n",
        "print(f\"At time {time} seconds, the temperature is {temperature:.2f}°C.\")\n"
      ],
      "metadata": {
        "colab": {
          "base_uri": "https://localhost:8080/"
        },
        "id": "Hj-IordmBwum",
        "outputId": "691fcea8-3565-421c-e125-94e109186010"
      },
      "execution_count": 1,
      "outputs": [
        {
          "output_type": "stream",
          "name": "stdout",
          "text": [
            "At time 10 seconds, the temperature is 52.00°C.\n"
          ]
        }
      ]
    },
    {
      "cell_type": "code",
      "execution_count": 3,
      "metadata": {
        "colab": {
          "base_uri": "https://localhost:8080/"
        },
        "id": "E9_Uuco4Abll",
        "outputId": "f9fbf1ad-48bb-48e0-9264-1abae94e1a06"
      },
      "outputs": [
        {
          "output_type": "stream",
          "name": "stdout",
          "text": [
            "Enter the coefficient 'a' (for time^2): 5\n",
            "Enter the coefficient 'b' (for time): 13\n",
            "Enter the constant 'c': 19\n",
            "Enter the time value (seconds): 15\n",
            "At time 15.0 seconds, the temperature is 1339.00°C.\n"
          ]
        }
      ],
      "source": [
        "# Accept coefficients from the user\n",
        "a = float(input(\"Enter the coefficient 'a' (for time^2): \"))\n",
        "b = float(input(\"Enter the coefficient 'b' (for time): \"))\n",
        "c = float(input(\"Enter the constant 'c': \"))\n",
        "\n",
        "time = float(input(\"Enter the time value (seconds): \"))\n",
        "\n",
        "\n",
        "temperature = a * (time ** 2) + b * time + c\n",
        "\n",
        "\n",
        "print(f\"At time {time} seconds, the temperature is {temperature:.2f}°C.\")\n"
      ]
    },
    {
      "cell_type": "code",
      "source": [
        "# Read variables from a file\n",
        "def read_variables_from_file(filename):\n",
        "    variables = {}\n",
        "    with open(filename, 'r') as file:\n",
        "        for line in file:\n",
        "            # Split the line into a key and value\n",
        "            key, value = line.strip().split('=')\n",
        "            variables[key] = float(value)  # Convert value to float\n",
        "    return variables\n",
        "\n",
        "filename = 'variable.txt'\n",
        "\n",
        "variables = read_variables_from_file(filename)\n",
        "\n",
        "a = variables['a']\n",
        "b = variables['b']\n",
        "c = variables['c']\n",
        "time = variables['time']\n",
        "\n",
        "\n",
        "temperature = a * (time ** 2) + b * time + c\n",
        "\n",
        "\n",
        "print(f\"At time {time} seconds, the temperature is {temperature:.2f}°C.\")"
      ],
      "metadata": {
        "colab": {
          "base_uri": "https://localhost:8080/"
        },
        "id": "gfNKZYEaB556",
        "outputId": "0052205e-f0e7-4f32-ca41-dea043a360c4"
      },
      "execution_count": 9,
      "outputs": [
        {
          "output_type": "stream",
          "name": "stdout",
          "text": [
            "At time 10.0 seconds, the temperature is 151.00°C.\n"
          ]
        }
      ]
    },
    {
      "cell_type": "code",
      "source": [
        "# Function to read a single set of coefficients from a file\n",
        "def read_coefficients_from_file(filename):\n",
        "    coefficients = {}\n",
        "    with open(filename, 'r') as file:\n",
        "        for line in file:\n",
        "            key, value = line.strip().split('=')\n",
        "            coefficients[key] = float(value)\n",
        "    return coefficients\n",
        "\n",
        "\n",
        "filename = 'coefficients.txt'\n",
        "\n",
        "\n",
        "coefficients = read_coefficients_from_file(filename)\n",
        "\n",
        "\n",
        "a = coefficients['a']\n",
        "b = coefficients['b']\n",
        "c = coefficients['c']\n",
        "time = coefficients['time']\n",
        "\n",
        "\n",
        "temperature = a * (time ** 2) + b * time + c\n",
        "\n",
        "\n",
        "print(f\"At time {time} seconds, the temperature is {temperature:.2f}°C.\")\n"
      ],
      "metadata": {
        "colab": {
          "base_uri": "https://localhost:8080/"
        },
        "id": "vYgVHRJlC_95",
        "outputId": "8aeacc26-d0fb-4592-c68d-0ade3621fbfa"
      },
      "execution_count": 11,
      "outputs": [
        {
          "output_type": "stream",
          "name": "stdout",
          "text": [
            "At time 10.0 seconds, the temperature is 151.00°C.\n"
          ]
        }
      ]
    },
    {
      "cell_type": "code",
      "source": [
        "# Function to process multiple sets of inputs from a file\n",
        "def process_multiple_sets(filename):\n",
        "    with open(filename, 'r') as file:\n",
        "        print(\"Processing multiple sets of inputs...\\n\")\n",
        "        for line_num, line in enumerate(file, start=1):\n",
        "            try:\n",
        "                coefficients = {}\n",
        "                for item in line.strip().split(','):\n",
        "                    key, value = item.strip().split('=')\n",
        "                    coefficients[key.strip()] = float(value.strip())\n",
        "\n",
        "                a = coefficients['a']\n",
        "                b = coefficients['b']\n",
        "                c = coefficients['c']\n",
        "                time = coefficients['time']\n",
        "\n",
        "                temperature = a * (time ** 2) + b * time + c\n",
        "\n",
        "                print(f\"Set {line_num}: At time {time} seconds, the temperature is {temperature:.2f}°C.\")\n",
        "            except Exception as e:\n",
        "                print(f\"Error processing line {line_num}: {line.strip()} - {e}\")\n",
        "\n",
        "filename = 'multiple_sets.txt'\n",
        "\n",
        "process_multiple_sets(filename)\n"
      ],
      "metadata": {
        "colab": {
          "base_uri": "https://localhost:8080/"
        },
        "id": "nmcUShwWEIB5",
        "outputId": "02487b3d-12df-47ee-91a6-cb5e28b6dc90"
      },
      "execution_count": 13,
      "outputs": [
        {
          "output_type": "stream",
          "name": "stdout",
          "text": [
            "Processing multiple sets of inputs...\n",
            "\n",
            "Set 1: At time 10.0 seconds, the temperature is 151.00°C.\n",
            "Set 2: At time 5.0 seconds, the temperature is 61.00°C.\n",
            "Set 3: At time 7.0 seconds, the temperature is 131.60°C.\n"
          ]
        }
      ]
    },
    {
      "cell_type": "code",
      "source": [],
      "metadata": {
        "id": "KacxEluzFCxF"
      },
      "execution_count": null,
      "outputs": []
    }
  ]
}